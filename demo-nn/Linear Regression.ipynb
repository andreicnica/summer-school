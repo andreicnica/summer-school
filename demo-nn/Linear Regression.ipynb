{
 "cells": [
  {
   "cell_type": "markdown",
   "metadata": {},
   "source": [
    "# Linear Regression\n",
    "\n",
    "Tudor Berariu, Andrei Nica, 2018"
   ]
  },
  {
   "cell_type": "code",
   "execution_count": null,
   "metadata": {},
   "outputs": [],
   "source": [
    "import numpy as np\n",
    "\n",
    "import matplotlib.pyplot as plt\n",
    "import seaborn as sns"
   ]
  },
  {
   "cell_type": "markdown",
   "metadata": {},
   "source": [
    "## The dataset"
   ]
  },
  {
   "cell_type": "code",
   "execution_count": null,
   "metadata": {},
   "outputs": [],
   "source": [
    "def generate_examples(N:int = 9, noise:float = 0.2, dist_noise:float = 0.2):\n",
    "    X = np.linspace(0, 1.75 * np.pi, N)\n",
    "    X += np.random.randn(N) * dist_noise\n",
    "    T = np.sin(X) + np.random.randn(N) * noise\n",
    "    return X, T\n",
    "\n",
    "N_train = 9\n",
    "N_test = 50\n",
    "noise = 0.25\n",
    "\n",
    "X_train, T_train = generate_examples(N=N_train, noise=noise)\n",
    "X_test, T_test = generate_examples(N=N_test, noise=noise)\n",
    "X_real, T_real = generate_examples(100, .0, .0)\n",
    "\n",
    "plt.figure(figsize=(12,6)); plt.axis('equal')\n",
    "plt.plot(X_real, T_real, sns.xkcd_rgb[\"green\"], label=\"Ideal function\")\n",
    "plt.scatter(X_train, T_train, s=100, label=\"Train examples\")\n",
    "plt.scatter(X_test, T_test, s=10, label=\"Test examples\")\n",
    "plt.xlabel(\"x\")\n",
    "plt.legend(bbox_to_anchor=(1, 1), loc='upper right', ncol=1)\n",
    "plt.show()"
   ]
  },
  {
   "cell_type": "markdown",
   "metadata": {},
   "source": [
    "## Extracting features\n",
    "$$\\phi_i(x) = x^i, \\quad 0 \\le i \\le M$$"
   ]
  },
  {
   "cell_type": "code",
   "execution_count": null,
   "metadata": {},
   "outputs": [],
   "source": [
    "def extract_features(X: np.array, M: int):\n",
    "    N = X.size\n",
    "    phi = np.ones((N, M + 1))\n",
    "    for j in range(1, M+1):\n",
    "        phi[:,j] = phi[:,j-1] * X\n",
    "    return phi\n",
    "\n",
    "extract_features(X_train, 4)"
   ]
  },
  {
   "cell_type": "markdown",
   "metadata": {},
   "source": [
    "## Closed-form solution\n",
    "\n",
    "We search for $${\\bf w}^* = \\underset{{\\bf w}}{\\arg\\!\\min} \\sum_{n} \\left({\\bf w}^{\\text{T}}{\\bf \\phi}^{(n)} - t^{(n)}\\right)^2$$"
   ]
  },
  {
   "cell_type": "code",
   "execution_count": null,
   "metadata": {},
   "outputs": [],
   "source": [
    "def mean_squared_error(Y, T):\n",
    "    return np.mean((Y - T) * (Y- T))"
   ]
  },
  {
   "cell_type": "code",
   "execution_count": null,
   "metadata": {},
   "outputs": [],
   "source": [
    "def train_params(X, T, M):\n",
    "    Phi = extract_features(X, M)\n",
    "    W = np.dot(np.linalg.pinv(Phi),T)\n",
    "    return W"
   ]
  },
  {
   "cell_type": "code",
   "execution_count": null,
   "metadata": {},
   "outputs": [],
   "source": [
    "def predict(X, W, M):\n",
    "    Phi = extract_features(X, M)\n",
    "    Y = np.dot(Phi, W)\n",
    "    return Y"
   ]
  },
  {
   "cell_type": "markdown",
   "metadata": {},
   "source": [
    "## Visualise learned predictor"
   ]
  },
  {
   "cell_type": "code",
   "execution_count": null,
   "metadata": {},
   "outputs": [],
   "source": [
    "M = 9\n",
    "\n",
    "# Train\n",
    "W = train_params(X_train, T_train, M)\n",
    "\n",
    "# Compute mean squared error\n",
    "Y_train = predict(X_train, W, M)\n",
    "Y_test = predict(X_test, W, M)\n",
    "print(\"Train error:\", mean_squared_error(Y_train, T_train))\n",
    "print(\"Test  error:\", mean_squared_error(Y_test, T_test))\n",
    "\n",
    "# Plot\n",
    "Y_real = predict(X_real, W, M)\n",
    "\n",
    "plt.figure(figsize=(12,6)); plt.axis('equal'); plt.ylim(-3, 3)\n",
    "plt.plot(X_real, T_real, sns.xkcd_rgb[\"green\"], label=\"Ideal function\")\n",
    "plt.plot(X_real, Y_real, sns.xkcd_rgb[\"red\"], label=\"Learned function\")\n",
    "plt.scatter(X_train, T_train, s=100, label=\"Train examples\")\n",
    "plt.xlabel(\"x\")\n",
    "plt.legend(bbox_to_anchor=(1, 1), loc='upper right', ncol=1)\n",
    "plt.show()"
   ]
  },
  {
   "cell_type": "markdown",
   "metadata": {},
   "source": [
    "## Evaluate predictor"
   ]
  },
  {
   "cell_type": "code",
   "execution_count": null,
   "metadata": {},
   "outputs": [],
   "source": [
    "train_mse = []\n",
    "test_mse = []\n",
    "for M in range(10):\n",
    "    W = train_params(X_train, T_train, M)\n",
    "    Y_train = predict(X_train, W, M)\n",
    "    Y_test = predict(X_test, W, M)\n",
    "    train_mse.append(mean_squared_error(Y_train, T_train))\n",
    "    test_mse.append(mean_squared_error(Y_test, T_test))\n",
    "\n",
    "plt.figure(figsize=(12,8))\n",
    "plt.plot(range(10), train_mse, sns.xkcd_rgb[\"green\"], label=\"Train MSE\")\n",
    "plt.plot(range(10), test_mse, sns.xkcd_rgb[\"red\"], label=\"Test MSE\")\n",
    "plt.xlabel(\"M\")\n",
    "plt.ylabel(\"MSE\")\n",
    "plt.legend(bbox_to_anchor=(0, 1), loc='upper left', ncol=1)\n",
    "plt.show()"
   ]
  },
  {
   "cell_type": "code",
   "execution_count": null,
   "metadata": {},
   "outputs": [],
   "source": []
  }
 ],
 "metadata": {
  "kernelspec": {
   "display_name": "Python 3",
   "language": "python",
   "name": "python3"
  },
  "language_info": {
   "codemirror_mode": {
    "name": "ipython",
    "version": 3
   },
   "file_extension": ".py",
   "mimetype": "text/x-python",
   "name": "python",
   "nbconvert_exporter": "python",
   "pygments_lexer": "ipython3",
   "version": "3.6.5"
  }
 },
 "nbformat": 4,
 "nbformat_minor": 2
}
